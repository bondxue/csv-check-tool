{
 "cells": [
  {
   "cell_type": "markdown",
   "metadata": {},
   "source": [
    "## CSV comparsion tool"
   ]
  },
  {
   "cell_type": "code",
   "execution_count": 1,
   "metadata": {},
   "outputs": [],
   "source": [
    "import pandas as pd\n",
    "import numpy as np\n",
    "import os\n",
    "from glob import glob\n",
    "from IPython.display import display"
   ]
  },
  {
   "cell_type": "code",
   "execution_count": 2,
   "metadata": {},
   "outputs": [],
   "source": [
    "PATH1 = '/Users/menghengxue/Desktop/gsa/csv-check-tool/expected_data1'\n",
    "PATH2 = '/Users/menghengxue/Desktop/gsa/csv-check-tool/expected_data2'\n",
    "EXT = \"*.csv\""
   ]
  },
  {
   "cell_type": "code",
   "execution_count": 3,
   "metadata": {},
   "outputs": [
    {
     "data": {
      "text/plain": [
       "dict_keys(['loan/metrics_is_origination_slr.csv', 'loan/loan_category.csv', 'loan/is_consumer_borrowing.csv', 'loan/is_reo.csv', 'loan/is_origination_loan.csv', 'loan/metrics_is_origination_sfr.csv', 'loan/metrics_is_origination_plp.csv', 'loan/metrics_is_origination_loan.csv', 'loan/is_eagle_loan.csv', 'loan/has_open_date.csv', 'loan/is_open.csv', 'loan/is_open_tranche.csv', 'loan/is_loan.csv', 'loan/tranche_chargeoff.csv', 'loan/is_consumer.csv', 'deposit/cd_group.csv', 'deposit/is_deposit.csv', 'deposit/fin_channel.csv', 'deposit/is_checking.csv', 'deposit/deposit_type.csv', 'deposit/is_open.csv', 'deposit/entity_type.csv', 'deposit/is_fx.csv', 'deposit/is_institutional.csv', 'region/deposit_region.csv', 'region/loan_region.csv', 'consumer/is_active_customer.csv', 'consumer/generation_.csv'])"
      ]
     },
     "execution_count": 3,
     "metadata": {},
     "output_type": "execute_result"
    }
   ],
   "source": [
    "def data_preparation(path):\n",
    "    file_and_data = {}\n",
    "    all_files_path = [file for path, subdir, files in os.walk(path) for file in glob(os.path.join(path, EXT))]\n",
    "\n",
    "    for file_path in all_files_path:\n",
    "        with open(file_path) as target_file:\n",
    "            file = '/'.join(file_path.split('/')[-2:])\n",
    "#             path, file = os.path.split(file_path)\n",
    "            file_and_data[file] = pd.read_csv(target_file)\n",
    "            \n",
    "    return file_and_data\n",
    "    \n",
    "\n",
    "files_old = data_preparation(PATH1)\n",
    "files_new = data_preparation(PATH2)        \n",
    "files_new.keys()"
   ]
  },
  {
   "cell_type": "code",
   "execution_count": 4,
   "metadata": {
    "pycharm": {
     "name": "#%%\n"
    }
   },
   "outputs": [
    {
     "name": "stdout",
     "output_type": "stream",
     "text": [
      "loan/metrics_is_origination_slr.csv : ok.\n",
      "loan/loan_category.csv : ok.\n",
      "loan/is_consumer_borrowing.csv : ok.\n",
      "loan/is_reo.csv : ok.\n",
      "loan/metrics_is_origination_sfr.csv : ok.\n",
      "loan/metrics_is_origination_plp.csv : ok.\n",
      "loan/metrics_is_origination_loan.csv : ok.\n",
      "loan/is_eagle_loan.csv : ok.\n",
      "loan/has_open_date.csv : ok.\n",
      "loan/is_open.csv : ok.\n",
      "loan/is_loan.csv : ok.\n",
      "loan/tranche_chargeoff.csv : ok.\n",
      "loan/is_consumer.csv : ok.\n",
      "deposit/cd_group.csv : ok.\n",
      "deposit/is_deposit.csv : ok.\n",
      "deposit/is_checking.csv : ok.\n",
      "deposit/deposit_type.csv : ok.\n",
      "deposit/is_open.csv : ok.\n",
      "deposit/entity_type.csv : ok.\n",
      "deposit/is_fx.csv : ok.\n",
      "deposit/is_institutional.csv : ok.\n",
      "region/deposit_region.csv : ok.\n",
      "region/loan_region.csv : ok.\n",
      "consumer/is_active_customer.csv : ok.\n",
      "consumer/generation_.csv : ok.\n",
      "loan/is_origination_loan.csv : wrong\n"
     ]
    },
    {
     "data": {
      "text/html": [
       "<style  type=\"text/css\" >\n",
       "    #T_7c7ca140_b3ee_11ea_9712_9801a7a0da1frow0_col1 {\n",
       "            background-color:  yellow;\n",
       "        }</style><table id=\"T_7c7ca140_b3ee_11ea_9712_9801a7a0da1f\" ><thead>    <tr>        <th class=\"blank level0\" ></th>        <th class=\"col_heading level0 col0\" colspan=2>acct_nbr</th>    </tr>    <tr>        <th class=\"blank level1\" ></th>        <th class=\"col_heading level1 col0\" >old</th>        <th class=\"col_heading level1 col1\" >new</th>    </tr></thead><tbody>\n",
       "                <tr>\n",
       "                        <th id=\"T_7c7ca140_b3ee_11ea_9712_9801a7a0da1flevel0_row0\" class=\"row_heading level0 row0\" >0</th>\n",
       "                        <td id=\"T_7c7ca140_b3ee_11ea_9712_9801a7a0da1frow0_col0\" class=\"data row0 col0\" >0210000019-0018</td>\n",
       "                        <td id=\"T_7c7ca140_b3ee_11ea_9712_9801a7a0da1frow0_col1\" class=\"data row0 col1\" >0210000019-0015</td>\n",
       "            </tr>\n",
       "            <tr>\n",
       "                        <th id=\"T_7c7ca140_b3ee_11ea_9712_9801a7a0da1flevel0_row1\" class=\"row_heading level0 row1\" >1</th>\n",
       "                        <td id=\"T_7c7ca140_b3ee_11ea_9712_9801a7a0da1frow1_col0\" class=\"data row1 col0\" >0210000019-0026</td>\n",
       "                        <td id=\"T_7c7ca140_b3ee_11ea_9712_9801a7a0da1frow1_col1\" class=\"data row1 col1\" >0210000019-0026</td>\n",
       "            </tr>\n",
       "            <tr>\n",
       "                        <th id=\"T_7c7ca140_b3ee_11ea_9712_9801a7a0da1flevel0_row2\" class=\"row_heading level0 row2\" >2</th>\n",
       "                        <td id=\"T_7c7ca140_b3ee_11ea_9712_9801a7a0da1frow2_col0\" class=\"data row2 col0\" >0210000035-0018</td>\n",
       "                        <td id=\"T_7c7ca140_b3ee_11ea_9712_9801a7a0da1frow2_col1\" class=\"data row2 col1\" >0210000035-0018</td>\n",
       "            </tr>\n",
       "            <tr>\n",
       "                        <th id=\"T_7c7ca140_b3ee_11ea_9712_9801a7a0da1flevel0_row3\" class=\"row_heading level0 row3\" >3</th>\n",
       "                        <td id=\"T_7c7ca140_b3ee_11ea_9712_9801a7a0da1frow3_col0\" class=\"data row3 col0\" >0210000035-0026</td>\n",
       "                        <td id=\"T_7c7ca140_b3ee_11ea_9712_9801a7a0da1frow3_col1\" class=\"data row3 col1\" >0210000035-0026</td>\n",
       "            </tr>\n",
       "            <tr>\n",
       "                        <th id=\"T_7c7ca140_b3ee_11ea_9712_9801a7a0da1flevel0_row4\" class=\"row_heading level0 row4\" >4</th>\n",
       "                        <td id=\"T_7c7ca140_b3ee_11ea_9712_9801a7a0da1frow4_col0\" class=\"data row4 col0\" >0210000043-0018</td>\n",
       "                        <td id=\"T_7c7ca140_b3ee_11ea_9712_9801a7a0da1frow4_col1\" class=\"data row4 col1\" >0210000043-0018</td>\n",
       "            </tr>\n",
       "            <tr>\n",
       "                        <th id=\"T_7c7ca140_b3ee_11ea_9712_9801a7a0da1flevel0_row5\" class=\"row_heading level0 row5\" >5</th>\n",
       "                        <td id=\"T_7c7ca140_b3ee_11ea_9712_9801a7a0da1frow5_col0\" class=\"data row5 col0\" >0210000050-0018</td>\n",
       "                        <td id=\"T_7c7ca140_b3ee_11ea_9712_9801a7a0da1frow5_col1\" class=\"data row5 col1\" >0210000050-0018</td>\n",
       "            </tr>\n",
       "            <tr>\n",
       "                        <th id=\"T_7c7ca140_b3ee_11ea_9712_9801a7a0da1flevel0_row6\" class=\"row_heading level0 row6\" >6</th>\n",
       "                        <td id=\"T_7c7ca140_b3ee_11ea_9712_9801a7a0da1frow6_col0\" class=\"data row6 col0\" >0210000050-0026</td>\n",
       "                        <td id=\"T_7c7ca140_b3ee_11ea_9712_9801a7a0da1frow6_col1\" class=\"data row6 col1\" >0210000050-0026</td>\n",
       "            </tr>\n",
       "            <tr>\n",
       "                        <th id=\"T_7c7ca140_b3ee_11ea_9712_9801a7a0da1flevel0_row7\" class=\"row_heading level0 row7\" >7</th>\n",
       "                        <td id=\"T_7c7ca140_b3ee_11ea_9712_9801a7a0da1frow7_col0\" class=\"data row7 col0\" >0210000068-0018</td>\n",
       "                        <td id=\"T_7c7ca140_b3ee_11ea_9712_9801a7a0da1frow7_col1\" class=\"data row7 col1\" >0210000068-0018</td>\n",
       "            </tr>\n",
       "            <tr>\n",
       "                        <th id=\"T_7c7ca140_b3ee_11ea_9712_9801a7a0da1flevel0_row8\" class=\"row_heading level0 row8\" >8</th>\n",
       "                        <td id=\"T_7c7ca140_b3ee_11ea_9712_9801a7a0da1frow8_col0\" class=\"data row8 col0\" >0210000068-0026</td>\n",
       "                        <td id=\"T_7c7ca140_b3ee_11ea_9712_9801a7a0da1frow8_col1\" class=\"data row8 col1\" >0210000068-0026</td>\n",
       "            </tr>\n",
       "            <tr>\n",
       "                        <th id=\"T_7c7ca140_b3ee_11ea_9712_9801a7a0da1flevel0_row9\" class=\"row_heading level0 row9\" >9</th>\n",
       "                        <td id=\"T_7c7ca140_b3ee_11ea_9712_9801a7a0da1frow9_col0\" class=\"data row9 col0\" >0210000084-0026</td>\n",
       "                        <td id=\"T_7c7ca140_b3ee_11ea_9712_9801a7a0da1frow9_col1\" class=\"data row9 col1\" >0210000084-0026</td>\n",
       "            </tr>\n",
       "    </tbody></table>"
      ],
      "text/plain": [
       "<pandas.io.formats.style.Styler at 0x10e9f0438>"
      ]
     },
     "metadata": {},
     "output_type": "display_data"
    },
    {
     "name": "stdout",
     "output_type": "stream",
     "text": [
      "loan/is_open_tranche.csv : wrong\n"
     ]
    },
    {
     "data": {
      "text/html": [
       "<style  type=\"text/css\" >\n",
       "    #T_7c810098_b3ee_11ea_b9e5_9801a7a0da1frow0_col3 {\n",
       "            background-color:  yellow;\n",
       "        }</style><table id=\"T_7c810098_b3ee_11ea_b9e5_9801a7a0da1f\" ><thead>    <tr>        <th class=\"blank level0\" ></th>        <th class=\"col_heading level0 col0\" colspan=2>is_open_tranche</th>        <th class=\"col_heading level0 col2\" colspan=2>count</th>    </tr>    <tr>        <th class=\"blank level1\" ></th>        <th class=\"col_heading level1 col0\" >old</th>        <th class=\"col_heading level1 col1\" >new</th>        <th class=\"col_heading level1 col2\" >old</th>        <th class=\"col_heading level1 col3\" >new</th>    </tr></thead><tbody>\n",
       "                <tr>\n",
       "                        <th id=\"T_7c810098_b3ee_11ea_b9e5_9801a7a0da1flevel0_row0\" class=\"row_heading level0 row0\" >0</th>\n",
       "                        <td id=\"T_7c810098_b3ee_11ea_b9e5_9801a7a0da1frow0_col0\" class=\"data row0 col0\" >0</td>\n",
       "                        <td id=\"T_7c810098_b3ee_11ea_b9e5_9801a7a0da1frow0_col1\" class=\"data row0 col1\" >0</td>\n",
       "                        <td id=\"T_7c810098_b3ee_11ea_b9e5_9801a7a0da1frow0_col2\" class=\"data row0 col2\" >128493</td>\n",
       "                        <td id=\"T_7c810098_b3ee_11ea_b9e5_9801a7a0da1frow0_col3\" class=\"data row0 col3\" >128494</td>\n",
       "            </tr>\n",
       "            <tr>\n",
       "                        <th id=\"T_7c810098_b3ee_11ea_b9e5_9801a7a0da1flevel0_row1\" class=\"row_heading level0 row1\" >1</th>\n",
       "                        <td id=\"T_7c810098_b3ee_11ea_b9e5_9801a7a0da1frow1_col0\" class=\"data row1 col0\" >1</td>\n",
       "                        <td id=\"T_7c810098_b3ee_11ea_b9e5_9801a7a0da1frow1_col1\" class=\"data row1 col1\" >1</td>\n",
       "                        <td id=\"T_7c810098_b3ee_11ea_b9e5_9801a7a0da1frow1_col2\" class=\"data row1 col2\" >154444</td>\n",
       "                        <td id=\"T_7c810098_b3ee_11ea_b9e5_9801a7a0da1frow1_col3\" class=\"data row1 col3\" >154444</td>\n",
       "            </tr>\n",
       "    </tbody></table>"
      ],
      "text/plain": [
       "<pandas.io.formats.style.Styler at 0x10f1cb518>"
      ]
     },
     "metadata": {},
     "output_type": "display_data"
    },
    {
     "name": "stdout",
     "output_type": "stream",
     "text": [
      "deposit/fin_channel.csv : wrong\n"
     ]
    },
    {
     "data": {
      "text/html": [
       "<style  type=\"text/css\" >\n",
       "    #T_7c86841c_b3ee_11ea_aebf_9801a7a0da1frow1_col1 {\n",
       "            background-color:  yellow;\n",
       "        }    #T_7c86841c_b3ee_11ea_aebf_9801a7a0da1frow2_col3 {\n",
       "            background-color:  yellow;\n",
       "        }</style><table id=\"T_7c86841c_b3ee_11ea_aebf_9801a7a0da1f\" ><thead>    <tr>        <th class=\"blank level0\" ></th>        <th class=\"col_heading level0 col0\" colspan=2>fin_channel</th>        <th class=\"col_heading level0 col2\" colspan=2>count</th>    </tr>    <tr>        <th class=\"blank level1\" ></th>        <th class=\"col_heading level1 col0\" >old</th>        <th class=\"col_heading level1 col1\" >new</th>        <th class=\"col_heading level1 col2\" >old</th>        <th class=\"col_heading level1 col3\" >new</th>    </tr></thead><tbody>\n",
       "                <tr>\n",
       "                        <th id=\"T_7c86841c_b3ee_11ea_aebf_9801a7a0da1flevel0_row0\" class=\"row_heading level0 row0\" >0</th>\n",
       "                        <td id=\"T_7c86841c_b3ee_11ea_aebf_9801a7a0da1frow0_col0\" class=\"data row0 col0\" >Other</td>\n",
       "                        <td id=\"T_7c86841c_b3ee_11ea_aebf_9801a7a0da1frow0_col1\" class=\"data row0 col1\" >Other</td>\n",
       "                        <td id=\"T_7c86841c_b3ee_11ea_aebf_9801a7a0da1frow0_col2\" class=\"data row0 col2\" >40560</td>\n",
       "                        <td id=\"T_7c86841c_b3ee_11ea_aebf_9801a7a0da1frow0_col3\" class=\"data row0 col3\" >40560</td>\n",
       "            </tr>\n",
       "            <tr>\n",
       "                        <th id=\"T_7c86841c_b3ee_11ea_aebf_9801a7a0da1flevel0_row1\" class=\"row_heading level0 row1\" >1</th>\n",
       "                        <td id=\"T_7c86841c_b3ee_11ea_aebf_9801a7a0da1frow1_col0\" class=\"data row1 col0\" >Preferred Banking</td>\n",
       "                        <td id=\"T_7c86841c_b3ee_11ea_aebf_9801a7a0da1frow1_col1\" class=\"data row1 col1\" >Preferred Bank</td>\n",
       "                        <td id=\"T_7c86841c_b3ee_11ea_aebf_9801a7a0da1frow1_col2\" class=\"data row1 col2\" >252398</td>\n",
       "                        <td id=\"T_7c86841c_b3ee_11ea_aebf_9801a7a0da1frow1_col3\" class=\"data row1 col3\" >252398</td>\n",
       "            </tr>\n",
       "            <tr>\n",
       "                        <th id=\"T_7c86841c_b3ee_11ea_aebf_9801a7a0da1flevel0_row2\" class=\"row_heading level0 row2\" >2</th>\n",
       "                        <td id=\"T_7c86841c_b3ee_11ea_aebf_9801a7a0da1frow2_col0\" class=\"data row2 col0\" >Preferred Banking Offices</td>\n",
       "                        <td id=\"T_7c86841c_b3ee_11ea_aebf_9801a7a0da1frow2_col1\" class=\"data row2 col1\" >Preferred Banking Offices</td>\n",
       "                        <td id=\"T_7c86841c_b3ee_11ea_aebf_9801a7a0da1frow2_col2\" class=\"data row2 col2\" >449446</td>\n",
       "                        <td id=\"T_7c86841c_b3ee_11ea_aebf_9801a7a0da1frow2_col3\" class=\"data row2 col3\" >44945</td>\n",
       "            </tr>\n",
       "            <tr>\n",
       "                        <th id=\"T_7c86841c_b3ee_11ea_aebf_9801a7a0da1flevel0_row3\" class=\"row_heading level0 row3\" >3</th>\n",
       "                        <td id=\"T_7c86841c_b3ee_11ea_aebf_9801a7a0da1frow3_col0\" class=\"data row3 col0\" >Sweeps</td>\n",
       "                        <td id=\"T_7c86841c_b3ee_11ea_aebf_9801a7a0da1frow3_col1\" class=\"data row3 col1\" >Sweeps</td>\n",
       "                        <td id=\"T_7c86841c_b3ee_11ea_aebf_9801a7a0da1frow3_col2\" class=\"data row3 col2\" >79</td>\n",
       "                        <td id=\"T_7c86841c_b3ee_11ea_aebf_9801a7a0da1frow3_col3\" class=\"data row3 col3\" >79</td>\n",
       "            </tr>\n",
       "    </tbody></table>"
      ],
      "text/plain": [
       "<pandas.io.formats.style.Styler at 0x10f1cb3c8>"
      ]
     },
     "metadata": {},
     "output_type": "display_data"
    }
   ],
   "source": [
    "def highlight_diff(data, color='yellow'):\n",
    "    attr = 'background-color: {}'.format(color)\n",
    "    other = data.xs('old', axis='columns', level=-1)\n",
    "    return pd.DataFrame(np.where(data.ne(other, level=0), attr, ''),\n",
    "                        index=data.index, columns=data.columns)\n",
    "\n",
    "def file_compare(files_old, files_new): \n",
    "    wrong_files = {}\n",
    "\n",
    "    for file in files_old:\n",
    "        if files_old[file].equals(files_new[file]):\n",
    "            print('{} : ok.'.format(file))\n",
    "        else:\n",
    "            merge_df = pd.concat([files_old[file], files_new[file]], axis='columns', keys=['old', 'new'])\n",
    "            wrong_files[file] = merge_df.swaplevel(axis='columns')[files_old[file].columns[1:]]\n",
    "    \n",
    "    for file in wrong_files:\n",
    "        print('{} : wrong'.format(file))\n",
    "        display(wrong_files[file].style.apply(highlight_diff, axis=None))\n",
    "        \n",
    "\n",
    "file_compare(files_old, files_new)"
   ]
  },
  {
   "cell_type": "code",
   "execution_count": null,
   "metadata": {},
   "outputs": [],
   "source": []
  },
  {
   "cell_type": "code",
   "execution_count": null,
   "metadata": {},
   "outputs": [],
   "source": []
  }
 ],
 "metadata": {
  "kernelspec": {
   "display_name": "Python 3",
   "language": "python",
   "name": "python3"
  },
  "language_info": {
   "codemirror_mode": {
    "name": "ipython",
    "version": 3
   },
   "file_extension": ".py",
   "mimetype": "text/x-python",
   "name": "python",
   "nbconvert_exporter": "python",
   "pygments_lexer": "ipython3",
   "version": "3.6.9"
  }
 },
 "nbformat": 4,
 "nbformat_minor": 4
}
